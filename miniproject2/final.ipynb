{
 "cells": [
  {
   "cell_type": "code",
   "execution_count": 3,
   "metadata": {
    "collapsed": true
   },
   "outputs": [],
   "source": [
    "import time\n",
    "import nltk\n",
    "import string\n",
    "import pronouncing\n",
    "import numpy as np\n",
    "from HMM import unsupervised_HMM\n",
    "import nltk\n",
    "import string\n",
    "import pronouncing\n",
    "import numpy as np\n",
    "import random\n",
    "with open('./project2data/shakespeare.txt', 'r') as file1: \n",
    "    poems_elements = file1.read().splitlines() "
   ]
  },
  {
   "cell_type": "code",
   "execution_count": 6,
   "metadata": {
    "collapsed": true
   },
   "outputs": [],
   "source": [
    "# to prove that the stress output is consistent with the syllable of each word\n",
    "for i in range(len(total_words_list)):\n",
    "    if len(stress(i)) != total_words_syllable_list[i]:\n",
    "        print('Error!: the stress and syllable do not match!')"
   ]
  },
  {
   "cell_type": "code",
   "execution_count": 69,
   "metadata": {
    "collapsed": true
   },
   "outputs": [],
   "source": [
    "#use \n",
    "#make sure 10 syllables in total\n",
    "#make sure the sentence follow unstressed stress pattern\n",
    "def generate_sequence(last_word_index, A_matrix, O_matrix, word_list, word_syllable_list):\n",
    "    sequence_logprob = 0\n",
    "    syllable = word_syllable_list[last_word_index]\n",
    "    # the stress that the previous word should end with\n",
    "    end_stress = (int(stress(last_word_index)[0])+1)%2\n",
    "    L = len(A_matrix)\n",
    "    D = len(O_matrix[0])\n",
    "    #HMM current state\n",
    "    prob = O_matrix[:,last_word_index]/np.sum(O_matrix[:,last_word_index])\n",
    "    Y_curr = np.random.choice(np.arange(L), p = prob)\n",
    "    \n",
    "    #the probability of getting Y for first position\n",
    "    sequence_logprob = sequence_logprob + np.log(prob[Y_curr])\n",
    "    #HMM next state\n",
    "    Y_prev = None\n",
    "    # the index of current X in word_list\n",
    "    X_curr = None\n",
    "    # the output sequence of index in word list \n",
    "    numerical_emission = [last_word_index]\n",
    "    # the output sequence of word\n",
    "    word_emission = [word_list[last_word_index]]\n",
    "    while syllable < 10:\n",
    "        Y_prev = np.random.choice(np.arange(L), p = A_matrix[Y_curr])\n",
    "        sequence_logprob = sequence_logprob +  np.log(A_matrix[Y_curr][Y_prev])\n",
    "        Y_curr = Y_prev\n",
    "        possible_X_curr = possible_word_index_with_end_stress(end_stress)\n",
    "        X_curr = np.random.choice(possible_X_curr, p = O_matrix[Y_curr, possible_X_curr]/np.sum(O_matrix[Y_curr, possible_X_curr]))\n",
    "        sequence_logprob = sequence_logprob + np.log(O_matrix[Y_curr, X_curr])\n",
    "        numerical_emission.insert(0,X_curr)\n",
    "        word_emission.insert(0,word_list[X_curr])\n",
    "        syllable += word_syllable_list[X_curr]\n",
    "        end_stress = (int(stress(X_curr)[0])+1)%2\n",
    "    if syllable == 10:\n",
    "        return word_emission, numerical_emission, sequence_logprob\n",
    "    elif syllable > 10:   \n",
    "        numerical_emission.pop(0)\n",
    "        word_emission.pop(0)\n",
    "        sequence_logprob = sequence_logprob - np.log(O_matrix[Y_curr, X_curr])\n",
    "        syllable -= word_syllable_list[X_curr]\n",
    "        end_stress = (int(stress(numerical_emission[0])[0])+1)%2\n",
    "        left_list_syllable = [i for i, x in enumerate(total_words_syllable_list) if x == 10-syllable]\n",
    "        left_list_stress = possible_word_index_with_end_stress(end_stress)\n",
    "        left_list = np.sort(list(set(left_list_syllable).intersection(left_list_stress)))\n",
    "        X_curr = np.random.choice(left_list, p = O_matrix[Y_curr, left_list]/np.sum(O_matrix[Y_curr, left_list]))\n",
    "        numerical_emission.insert(0,X_curr)\n",
    "        word_emission.insert(0,word_list[X_curr])\n",
    "        sequence_logprob = sequence_logprob + np.log(O_matrix[Y_curr, X_curr])\n",
    "        return word_emission, numerical_emission, sequence_logprob\n",
    "    \n",
    "    return 0\n",
    "\n",
    "\n",
    "    "
   ]
  },
  {
   "cell_type": "code",
   "execution_count": 111,
   "metadata": {
    "collapsed": false
   },
   "outputs": [],
   "source": [
    "def readSonnet(fileName):\n",
    "    \"\"\"\n",
    "    This function reads the sonnets, lines, words in the given file.\n",
    "    Input:\n",
    "        Each sonnet has 17 lines: number line, 14 lines, 2 empty lines\n",
    "    Output:\n",
    "        sonnet_lst: the list of sonnet\n",
    "        line_lst: the list of lines in all sonnets\n",
    "        word_set: the set of words appears in the sonnets\n",
    "        last_wd_set: the set of last word in each line\n",
    "    \"\"\"\n",
    "    with open(fileName, 'r') as f:\n",
    "        lines = f.read().splitlines()\n",
    "    sonnet_lst = []\n",
    "    line_lst = []\n",
    "    word_set = set()\n",
    "    last_wd_set = set()\n",
    "    for i, line in enumerate(lines):\n",
    "        j = i % 17\n",
    "        if j == 0:\n",
    "            sonnet = []\n",
    "        elif (j >= 1) and (j <= 14):\n",
    "            sonnet.append(line)\n",
    "            for punc in \"(.,?!'\\\":;)\":\n",
    "                line = line.replace(punc, '')\n",
    "            line = line.replace('-', ' ')\n",
    "            words = nltk.word_tokenize(line.lower())\n",
    "            # words = line.lower().split()\n",
    "            l = []\n",
    "            for word in words:\n",
    "                # add valid word with positive syllables, ignore words with 0 syllable\n",
    "                if stress1(word) != []:\n",
    "                    l.append(word)\n",
    "                    word_set.add(word)\n",
    "            line_lst.append(l)\n",
    "            # add valid last word into the list of last_wd_lst\n",
    "            if stress1(words[-1]) != []:\n",
    "                last_wd_set.add(words[-1]) \n",
    "        elif j == 15:\n",
    "            sonnet_lst.append(sonnet)\n",
    "    return sonnet_lst, line_lst, word_set, last_wd_set\n",
    "\n",
    "def stress1(word):\n",
    "    '''This function returns the list of the given word's stress.'''\n",
    "    result = []\n",
    "    pron = pronouncing.phones_for_word(word)\n",
    "    if pron != []:\n",
    "        for char in pron[0]:\n",
    "            if char.isdigit():\n",
    "                result.append(char)\n",
    "    return result\n",
    "\n",
    "def wd2num(line_lst, word_map):\n",
    "    '''\n",
    "    This function maps a list of sentences to a list of numbers,\n",
    "    and reverses each list of numbers.'''\n",
    "    nums_lst = []\n",
    "    for line in line_lst:\n",
    "        nums = []\n",
    "        for wd in line:\n",
    "            nums.append(word_map[wd])\n",
    "        nums.reverse()\n",
    "        nums_lst.append(nums)\n",
    "    return nums_lst\n",
    "\n",
    "def num2wd(nums_lst, word_lst):\n",
    "    '''\n",
    "    This function maps a list of numbers to a list of sentences,\n",
    "    and reverses each list of sentences.\n",
    "    '''\n",
    "    line_lst = []\n",
    "    for nums in nums_lst:\n",
    "        line = []\n",
    "        for num in nums:\n",
    "            line.append(word_lst[num])\n",
    "        word_lst.reverse()\n",
    "        line_lst.append(line)\n",
    "    return line_lst\n",
    "\n",
    "def HMM():\n",
    "    start = time.time()\n",
    "    sonnet_lst, line_lst, word_set, last_wd_set = readSonnet('./project2data/shakespeare.txt')\n",
    "    word_lst = list(word_set)\n",
    "    last_wd_lst = list(last_wd_set)\n",
    "    print('The number of sonnets is ', len(sonnet_lst))\n",
    "    print('The number of lines is ', len(line_lst))\n",
    "    print('The number of words is ', len(word_lst))\n",
    "    print('The number of last words is ', len(last_wd_lst))\n",
    "    print('\\n\\n')\n",
    "    # word_lst[i] is the i-th word, word_map[the i-th word] is i\n",
    "    # stress_lst[i] is the stress of the i-th word\n",
    "    # syllab_lst[i] is the number of syllables of the i-th word\n",
    "    word_map = {}\n",
    "    stress_lst = []\n",
    "    syllab_lst = []\n",
    "    for i, wd in enumerate(word_lst):\n",
    "        word_map[wd] = i\n",
    "        wd_stress = stress1(wd)\n",
    "        stress_lst.append(wd_stress)\n",
    "        syllab_lst.append(len(wd_stress))\n",
    "\n",
    "    n_states = 10\n",
    "    n_iters = 100\n",
    "    nums_lst = wd2num(line_lst, word_map)\n",
    "\n",
    "\n",
    "    HMM = unsupervised_HMM(nums_lst, n_states, n_iters)\n",
    "    # Print the transition matrix.\n",
    "    print(\"Transition Matrix:\")\n",
    "    print('#' * 70)\n",
    "    for i in range(len(HMM.A)):\n",
    "        print(''.join(\"{:<12.3e}\".format(HMM.A[i][j]) for j in range(len(HMM.A[i]))))\n",
    "    return (HMM.A, HMM.O)\n",
    "\n",
    "\n"
   ]
  },
  {
   "cell_type": "code",
   "execution_count": 112,
   "metadata": {
    "collapsed": false
   },
   "outputs": [
    {
     "name": "stdout",
     "output_type": "stream",
     "text": [
      "The number of sonnets is  151\n",
      "The number of lines is  2128\n",
      "The number of words is  2761\n",
      "The number of last words is  945\n",
      "\n",
      "\n",
      "\n",
      "Transition Matrix:\n",
      "######################################################################\n",
      "9.142e-02   5.502e-01   7.371e-28   1.858e-75   1.653e-04   3.267e-01   2.792e-08   1.977e-33   1.293e-34   3.153e-02   \n",
      "2.020e-33   1.870e-03   2.201e-23   3.596e-60   6.483e-01   2.499e-03   1.489e-10   6.265e-03   3.726e-02   3.038e-01   \n",
      "1.313e-01   3.051e-25   5.927e-01   2.998e-55   2.759e-01   1.490e-04   1.427e-19   1.141e-40   4.343e-36   7.663e-24   \n",
      "5.520e-54   3.518e-01   1.202e-71   5.507e-118  3.523e-30   6.482e-01   8.585e-58   2.550e-92   1.014e-40   6.037e-59   \n",
      "1.508e-20   3.628e-29   5.452e-02   6.455e-49   5.936e-01   5.049e-12   3.256e-04   3.377e-02   1.160e-19   3.178e-01   \n",
      "1.858e-02   5.993e-20   3.257e-27   6.061e-58   1.106e-02   6.832e-02   6.396e-01   7.877e-16   2.334e-01   2.901e-02   \n",
      "4.843e-29   3.274e-16   2.193e-32   1.025e-67   2.063e-09   8.981e-01   3.221e-06   1.244e-50   1.144e-14   1.019e-01   \n",
      "2.265e-41   8.145e-33   3.382e-53   7.510e-70   1.336e-24   1.864e-21   7.187e-01   6.363e-02   7.433e-37   2.177e-01   \n",
      "8.376e-01   6.099e-26   8.058e-02   1.348e-84   4.184e-21   6.591e-24   1.338e-26   1.915e-19   8.184e-02   3.747e-24   \n",
      "5.333e-07   8.843e-01   1.518e-24   5.124e-43   1.615e-16   4.435e-03   1.008e-01   1.214e-13   9.999e-03   4.878e-04   \n"
     ]
    }
   ],
   "source": [
    "HMM_learnedA, HMM_learnedO = HMM()"
   ]
  },
  {
   "cell_type": "code",
   "execution_count": 8,
   "metadata": {
    "collapsed": true
   },
   "outputs": [],
   "source": [
    "sonnet_lst, line_lst, word_set, total_last_word_set = readSonnet('./project2data/shakespeare.txt')\n",
    "total_words_list = list(word_set)\n",
    "total_words_syllable_list = []\n",
    "for word in total_words_list:\n",
    "    pronunciation_list = pronouncing.phones_for_word(word)\n",
    "    total_words_syllable_list.append(pronouncing.syllable_count(pronunciation_list[0]))"
   ]
  },
  {
   "cell_type": "code",
   "execution_count": 9,
   "metadata": {
    "collapsed": false
   },
   "outputs": [],
   "source": [
    "# return a list of word's stress given the pronounciation of the word\n",
    "def stress_pronoun(pron):\n",
    "    return [char for phone in pron for char in phone if char.isdigit()]\n",
    "# return a list of word's stress given the index of the word in the list\n",
    "def stress(word_index):   \n",
    "    return stress_pronoun(pronouncing.phones_for_word(total_words_list[word_index])[0])\n",
    "\n",
    "word_index_end_1 = []\n",
    "for i in range(len(total_words_list)):\n",
    "    if int(stress(i)[-1]) == 1:\n",
    "        word_index_end_1.append(i)\n",
    "\n",
    "\n",
    "word_index_end_0 = []\n",
    "for i in range(len(total_words_list)):\n",
    "    if int(stress(i)[-1]) == 0:\n",
    "        word_index_end_0.append(i)\n",
    "\n",
    "def possible_word_index_with_end_stress(end_stress_in_int):\n",
    "    if end_stress_in_int == 1:\n",
    "        return word_index_end_1\n",
    "    elif end_stress_in_int == 0:\n",
    "        return word_index_end_0\n"
   ]
  },
  {
   "cell_type": "code",
   "execution_count": 53,
   "metadata": {
    "collapsed": false
   },
   "outputs": [],
   "source": [
    "# return the rhyme of a word\n",
    "def rhyme_of_word(input_word):\n",
    "    pronunciation_list = pronouncing.phones_for_word(input_word)\n",
    "    if pronunciation_list != [] and stress_pronoun(pronunciation_list[0])[-1] == '1':\n",
    "        return pronunciation_list[0].split()[-1]\n",
    "    elif pronunciation_list == []:\n",
    "        return None\n",
    "    \n",
    "# return all the other words in the list that have the same rhyme\n",
    "def words_same_rhyme(input_word, word_list):\n",
    "    rhyme = rhyme_of_word(input_word)\n",
    "    return words_of_rhyme(rhyme, word_list)\n",
    "\n",
    "# return the word that \n",
    "def words_of_rhyme(input_rhyme, word_list):\n",
    "    rhyme = input_rhyme\n",
    "    word_set = set()\n",
    "    for word in word_list:\n",
    "        if rhyme_of_word(word) == rhyme and stress_pronoun(pronouncing.phones_for_word(word)[0])[-1] == '1':\n",
    "            word_set.add(word)\n",
    "    return word_set\n",
    "\n",
    "def fourteen_end_words(word_list):\n",
    "    total_rhyme_set = set()\n",
    "    for word in word_list:\n",
    "        if rhyme_of_word(word) != None:  \n",
    "            total_rhyme_set.add(rhyme_of_word(word))\n",
    "    seven_rhyme_list = list(random.sample(total_rhyme_set, 7))                                      \n",
    "    end_words = [None]*14\n",
    "    for i in range(3):\n",
    "        for j in range(2):\n",
    "            two_words = random.sample(words_of_rhyme(seven_rhyme_list[i*2+j], word_list),2)\n",
    "            end_words[i*4+j] = two_words[0]\n",
    "            end_words[i*4+j+2] = two_words[1]\n",
    "    two_words = random.sample(words_of_rhyme(seven_rhyme_list[0], word_list),2)\n",
    "    end_words[12] = two_words[0]\n",
    "    end_words[13] = two_words[1]\n",
    "    return end_words \n",
    "\n",
    "rhyme_words_list = fourteen_end_words(set(total_words_list))"
   ]
  },
  {
   "cell_type": "code",
   "execution_count": 54,
   "metadata": {
    "collapsed": false
   },
   "outputs": [],
   "source": [
    "\n",
    "rhyme_words_index_list = []\n",
    "for word in rhyme_words_list:\n",
    "    rhyme_words_index_list.append(total_words_list.index(word))\n"
   ]
  },
  {
   "cell_type": "code",
   "execution_count": 62,
   "metadata": {
    "collapsed": false
   },
   "outputs": [
    {
     "data": {
      "text/plain": [
       "['1']"
      ]
     },
     "execution_count": 62,
     "metadata": {},
     "output_type": "execute_result"
    }
   ],
   "source": [
    "stress(total_words_list.index('day'))"
   ]
  },
  {
   "cell_type": "code",
   "execution_count": 83,
   "metadata": {
    "collapsed": false
   },
   "outputs": [
    {
     "name": "stdout",
     "output_type": "stream",
     "text": [
      "the cruel power richly other eye\n",
      "['0']['1', '0']['1', '0']['1', '0']['1', '0']['1']\n",
      "and any fair triumphant on the finds\n",
      "['0']['1', '0']['1']['0', '1', '0']['1']['0']['1']\n",
      "in metre or and torture prouder buy\n",
      "['0']['1', '0']['1']['0']['1', '0']['1', '0']['1']\n",
      "in will alone and publish then perfumes\n",
      "['0']['1']['0', '1']['0']['1', '0']['1']['0', '1']\n",
      "nothing though in gentle wrongfully such\n",
      "['1', '0']['1']['0']['1', '0']['1', '0', '0']['1']\n",
      "the so distilled and hate and look and draw\n",
      "['0']['1']['0', '1']['0']['1']['0']['1']['0']['1']\n",
      "in fortunes tongue and this and you dispatch\n",
      "['0']['1', '0']['1']['0']['1']['0']['1']['0', '1']\n",
      "a master state and any lost the saw\n",
      "['0']['1', '0']['1']['0']['1', '0']['1']['0']['1']\n",
      "and let the merit eyes in fortune parts\n",
      "['0']['1']['0']['1', '0']['1']['0']['1', '0']['1']\n",
      "and gentle numbered shamed and many league\n",
      "['0']['1', '0']['1', '0']['1']['0']['1', '0']['1']\n",
      "and others manners summer here the base\n",
      "['0']['1', '0']['1', '0']['1', '0']['1']['0']['1']\n",
      "in very art informer thee and big\n",
      "['0']['1', '0']['1']['2', '1', '0']['1']['0']['1']\n",
      "the my the what abuses of defy\n",
      "['0']['1']['0']['1']['0', '1', '0']['1']['0', '1']\n",
      "in beauty doth the pity under high\n",
      "['0']['1', '0']['1']['0']['1', '0']['1', '0']['1']\n"
     ]
    }
   ],
   "source": [
    "rhyme_words_list = fourteen_end_words(set(total_words_list))\n",
    "rhyme_words_index_list = []\n",
    "for word in rhyme_words_list:\n",
    "    rhyme_words_index_list.append(total_words_list.index(word))\n",
    "\n",
    "for i in rhyme_words_index_list:\n",
    "    x,y,p = generate_sequence(i, A_matrix=np.array(HMM_learnedA), O_matrix=np.array(HMM_learnedO), \n",
    "                  word_list=total_words_list, word_syllable_list = total_words_syllable_list)\n",
    "    print(' '.join(x))\n",
    "    stress_parttern = []\n",
    "    for j in y:\n",
    "        stress_parttern.append(str(stress(j)))\n",
    "    print(''.join(stress_parttern))"
   ]
  },
  {
   "cell_type": "code",
   "execution_count": 105,
   "metadata": {
    "collapsed": false,
    "scrolled": true
   },
   "outputs": [
    {
     "name": "stdout",
     "output_type": "stream",
     "text": [
      "stay\n",
      "heart\n",
      "hate\n",
      "dead\n",
      "store\n",
      "prove\n",
      "lie\n",
      "days\n",
      "decay\n"
     ]
    }
   ],
   "source": [
    "top10words = np.argsort(HMM_learnedO[0])[-10:-1]\n",
    "for index in top10words:\n",
    "    print(total_words_list[index])"
   ]
  },
  {
   "cell_type": "code",
   "execution_count": 140,
   "metadata": {
    "collapsed": false
   },
   "outputs": [],
   "source": [
    "import pickle\n",
    "import networkx as nx\n",
    "import numpy as np\n",
    "from HMM import *\n",
    "import matplotlib.pyplot as plt"
   ]
  },
  {
   "cell_type": "code",
   "execution_count": 145,
   "metadata": {
    "collapsed": false
   },
   "outputs": [
    {
     "data": {
      "image/png": "[encoded data removed]",
      "text/plain": [
       "<matplotlib.figure.Figure at 0x115f99cf8>"
      ]
     },
     "metadata": {},
     "output_type": "display_data"
    }
   ],
   "source": [
    "matrix = np.array(HMM_learnedA)\n",
    "size = matrix[0].size\n",
    "\n",
    "# Create a graph\n",
    "DG = nx.DiGraph()\n",
    "DG.add_nodes_from(range(size))\n",
    "\n",
    "# Add edges and their weights\n",
    "for i in range(size):\n",
    "    for j in range(size):\n",
    "        weight = matrix.item((i, j))\n",
    "        if np.abs(weight) >= 0.05 :\n",
    "            DG.add_edge(i, j, weight=matrix.item((i, j)))\n",
    "\n",
    "# Draw the graph\n",
    "pos = nx.circular_layout(DG)\n",
    "nx.draw(DG, pos, with_labels=True)\n",
    "edge_labels=dict([((u, v, ), '%.2f'%(d['weight'])) for u, v, d in DG.edges(data=True)])\n",
    "nx.draw_networkx_edge_labels(DG, pos, edge_labels=edge_labels, label_pos=0.27, font_size=7)\n",
    "plt.axis('off')\n",
    "plt.show()"
   ]
  },
  {
   "cell_type": "code",
   "execution_count": null,
   "metadata": {
    "collapsed": true
   },
   "outputs": [],
   "source": []
  }
 ],
 "metadata": {
  "anaconda-cloud": {},
  "kernelspec": {
   "display_name": "Python [default]",
   "language": "python",
   "name": "python3"
  },
  "language_info": {
   "codemirror_mode": {
    "name": "ipython",
    "version": 3
   },
   "file_extension": ".py",
   "mimetype": "text/x-python",
   "name": "python",
   "nbconvert_exporter": "python",
   "pygments_lexer": "ipython3",
   "version": "3.5.2"
  }
 },
 "nbformat": 4,
 "nbformat_minor": 1
}
