{
 "cells": [
  {
   "cell_type": "code",
   "execution_count": 28,
   "metadata": {
    "collapsed": false
   },
   "outputs": [
    {
     "name": "stdout",
     "output_type": "stream",
     "text": [
      "(64667, 5)\n",
      "5\n"
     ]
    }
   ],
   "source": [
    "import csv\n",
    "import time\n",
    "import numpy as np \n",
    "from sklearn.ensemble import AdaBoostClassifier\n",
    "from sklearn import linear_model\n",
    "\n",
    "def normalize(x):\n",
    "    '''This function nomalizes each columns of the input 2d array.'''\n",
    "    x_mean = np.mean(x, axis=0)\n",
    "    x_std = np.std(x, axis=0)\n",
    "    x_std[x_std == 0] = 1\n",
    "    x1 = (x - x_mean) / x_std\n",
    "    return x1\n",
    "\n",
    "def addFeature (X_train, X_test1, X_test2, add_feature):\n",
    "    addFeatureLen = len(add_feature)\n",
    "    for i1 in range (addFeatureLen):\n",
    "        for i2 in range (i1,addFeatureLen, 1):\n",
    "            newFeature1 = np.array(X_train[:,i1]*X_train[:,i2]).reshape(-1,1)\n",
    "            #print (np.shape(newFeature1))\n",
    "            X_train = np.hstack((X_train, newFeature1))\n",
    "            newFeature2 = np.array(X_test1[:,i1]*X_test1[:,i2]).reshape(-1,1)\n",
    "            X_test1 = np.hstack((X_test1, newFeature2))\n",
    "            newFeature3 = np.array(X_test2[:,i1]*X_test2[:,i2]).reshape(-1,1)\n",
    "            X_test2 = np.hstack((X_test2, newFeature3))\n",
    "    return (X_train, X_test1, X_test2)\n",
    "\n",
    "def selectFeature(X_train, y_train, x_test1, x_test2,alpha1):\n",
    "    '''This function select the features of normalized data (i.e., np.std(X[:,j]) = 1 or 0).\n",
    "    If qmin < (np.amax(X[:,j]) - np.amin(X[:,j]) < qmax, then j will be selected.'''\n",
    "    reg = linear_model.Lasso(alpha = alpha1)\n",
    "    reg.fit(X_train, y_train)\n",
    "    keeplist = []\n",
    "    feature_num = len(reg.coef_)\n",
    "    for i in range(feature_num):\n",
    "        if abs(reg.coef_[i])> 1e-4:\n",
    "            keeplist.append(True)\n",
    "        else:\n",
    "            keeplist.append(False)\n",
    "    keeplist[0] = True\n",
    "    keeplist = np.array(keeplist)\n",
    "    #print (reg.coef_[[0, 6, 7, 39, 41]])\n",
    "    #for index, value in enumerate(keeplist):\n",
    "    #    if value:\n",
    "    #        print (index)\n",
    "    #print (reg.coef_[52])\n",
    "    #dist = np.amax(X_train, axis=0) - np.amin(X_train, axis=0)\n",
    "    #cols = np.all([dist > qmin, dist < qmax], axis=0)\n",
    "    x_train_new = X_train[:, keeplist]\n",
    "    x_test1_new = X_test1[:, keeplist]\n",
    "    x_test2_new = X_test2[:, keeplist]\n",
    "    return (x_train_new, x_test1_new, x_test2_new)\n",
    "\n",
    "start = time.time()\n",
    "\n",
    "# load the the data from the files\n",
    "with open('train_2008.csv', 'r') as file1: \n",
    "    lines1 = csv.reader(file1, delimiter=',', quotechar='|') \n",
    "    next(lines1, None)\n",
    "    data1 = np.array([line for line in lines1], dtype=float)\n",
    "\n",
    "with open('test_2008.csv', 'r') as file2:\n",
    "\tlines2 = csv.reader(file2, delimiter=',', quotechar='\"')\n",
    "\tnext(lines2, None)\n",
    "\tdata2 = np.array([line for line in lines2], dtype=float)\n",
    "\n",
    "with open('test_2012.csv', 'r') as file3:\n",
    "\tlines3 = csv.reader(file3, delimiter=',', quotechar='\"')\n",
    "\tnext(lines3, None)\n",
    "\tdata3 = np.array([line for line in lines3], dtype=float)\n",
    "\n",
    "# convert the data to float numpy array \n",
    "alpha1 = 0.065\n",
    "add_feature = [6,7,39,41,48,57,64,371,374];\n",
    "N_train = len(data1)\n",
    "y_train = 2 * (data1[:, -1] - 1.5)  # maps 1 to -1, 2 to 1\n",
    "X_train = normalize(data1[:, :-1])\n",
    "X_train[:, 0] = 1\n",
    "X_test1 = normalize(data2)\n",
    "X_test1[:, 0] = 1\n",
    "X_test2 = normalize(data3)\n",
    "X_test2[:, 0] = 1\n",
    "#qmin, qmax = 1, 100\n",
    "#X_train, X_test1, X_test2 = addFeature(X_train, X_test1, X_test2, add_feature)\n",
    "X_train, X_test1, X_test2 = selectFeature(X_train, y_train, X_test1, X_test2, alpha1) \n",
    "print (np.shape(X_train))\n",
    "d = len(X_train[0])\n",
    "print (d)\n",
    "\n",
    "\n"
   ]
  },
  {
   "cell_type": "code",
   "execution_count": 96,
   "metadata": {
    "collapsed": false
   },
   "outputs": [],
   "source": [
    "#with open('train_2008.csv', 'r') as file1: \n",
    "#    lines1 = csv.reader(file1, delimiter=',', quotechar='|') \n",
    "#    data1 = np.array([line for line in lines1])\n"
   ]
  },
  {
   "cell_type": "code",
   "execution_count": 98,
   "metadata": {
    "collapsed": false
   },
   "outputs": [
    {
     "data": {
      "text/plain": [
       "array(['HETENURE', 'HEHOUSUT', 'PERRP', 'PEAGE', 'PEEDUCA', 'PRMARSTA',\n",
       "       'PRINUSYR', 'PECYC', 'PEDISREM', 'PEDISOUT'], \n",
       "      dtype='<U9')"
      ]
     },
     "execution_count": 98,
     "metadata": {},
     "output_type": "execute_result"
    }
   ],
   "source": [
    "#data1[0,[64,337,371,374]]\n",
    "#data1[0,[6,7,39,41,48,57,64,371,374]]\n"
   ]
  },
  {
   "cell_type": "code",
   "execution_count": 21,
   "metadata": {
    "collapsed": false
   },
   "outputs": [
    {
     "name": "stdout",
     "output_type": "stream",
     "text": [
      "The cross-validation scores are :  0.776705634935 0.782203940247\n",
      "The cross-validation scores are :  0.787090588563\n",
      "[13773, 2227]\n",
      "[73617, 9203]\n",
      "The running time is  79.94712996482849\n"
     ]
    }
   ],
   "source": [
    "# train the model and calculate the scores by cross-validation\n",
    "N = 200\n",
    "clf1 = AdaBoostClassifier(n_estimators=N)\n",
    "clf1.fit(X_train[:int(N_train/2)], y_train[:int(N_train/2)])\n",
    "score1 = clf1.score(X_train[int(N_train/2):], y_train[int(N_train/2):])\n",
    "clf2 = AdaBoostClassifier(n_estimators=N)\n",
    "clf2.fit(X_train[int(N_train/2):], y_train[int(N_train/2):])\n",
    "score2 = clf2.score(X_train[:int(N_train/2)], y_train[:int(N_train/2)])\n",
    "print(\"The cross-validation scores are : \", score1, score2)\n",
    "\n",
    "#train on the whole sample\n",
    "clf = AdaBoostClassifier(n_estimators=N)\n",
    "clf.fit(X_train, y_train)\n",
    "score3 = clf.score(X_train[:int(N_train/2)], y_train[:int(N_train/2)])\n",
    "print(\"The cross-validation scores are : \", score3)\n",
    "\n",
    "# write the prediction data into the submission file\n",
    "#clf = AdaBoostClassifier(n_estimators=N)\n",
    "#clf.fit(X_train, y_train)\n",
    "'''\n",
    "y_test1 = clf2.predict(X_test1)\n",
    "print([sum(y_test1==-1), sum(y_test1==1)])\n",
    "with open('submission2008.csv', 'w', newline='') as file: \n",
    "\tfilewriter = csv.writer(file, delimiter=',', quotechar='|', quoting=csv.QUOTE_MINIMAL)\n",
    "\tfilewriter.writerow(['id', 'PES1'])\n",
    "\tfor i, yi in enumerate(y_test1):\n",
    "\t\tfilewriter.writerow([str(i), str(int(yi/2 + 1.5))])\n",
    "y_test2 = clf2.predict(X_test2)\n",
    "print([sum(y_test2==-1), sum(y_test2==1)])\n",
    "with open('submission2012.csv', 'w', newline='') as file: \n",
    "\tfilewriter = csv.writer(file, delimiter=',', quotechar='|', quoting=csv.QUOTE_MINIMAL)\n",
    "\tfilewriter.writerow(['id', 'PES1'])\n",
    "\tfor i, yi in enumerate(y_test2):\n",
    "\t\tfilewriter.writerow([str(i), str(int(yi/2 + 1.5))])\n",
    "'''\n",
    "y_test1 = clf.predict(X_test1)\n",
    "print([sum(y_test1==-1), sum(y_test1==1)])\n",
    "with open('submission2008.csv', 'w', newline='') as file: \n",
    "\tfilewriter = csv.writer(file, delimiter=',', quotechar='|', quoting=csv.QUOTE_MINIMAL)\n",
    "\tfilewriter.writerow(['id', 'PES1'])\n",
    "\tfor i, yi in enumerate(y_test1):\n",
    "\t\tfilewriter.writerow([str(i), str(int(yi/2 + 1.5))])\n",
    "y_test2 = clf.predict(X_test2)\n",
    "print([sum(y_test2==-1), sum(y_test2==1)])\n",
    "with open('submission2012.csv', 'w', newline='') as file: \n",
    "\tfilewriter = csv.writer(file, delimiter=',', quotechar='|', quoting=csv.QUOTE_MINIMAL)\n",
    "\tfilewriter.writerow(['id', 'PES1'])\n",
    "\tfor i, yi in enumerate(y_test2):\n",
    "\t\tfilewriter.writerow([str(i), str(int(yi/2 + 1.5))])\n",
    "# print running time\n",
    "stop = time.time()\n",
    "print('The running time is ', stop - start)\n",
    "\n",
    "\n"
   ]
  },
  {
   "cell_type": "code",
   "execution_count": null,
   "metadata": {
    "collapsed": true
   },
   "outputs": [],
   "source": [
    "non:\n",
    "    0.776520071751 0.780286394705\n",
    "    \n",
    "select feature:\n",
    "The cross-validation scores are :  0.776705634935 0.782203940247\n",
    "\n",
    "add and select\n",
    "The cross-validation scores are :  0.777880868436 0.78294621594\n",
    "The cross-validation scores are :  0.787090588563\n",
    "[13731, 2269]\n",
    "[73258, 9562]\n",
    "The running time is  137.72293400764465"
   ]
  },
  {
   "cell_type": "code",
   "execution_count": 24,
   "metadata": {
    "collapsed": false
   },
   "outputs": [
    {
     "data": {
      "text/plain": [
       "-0.0009587545970000111"
      ]
     },
     "execution_count": 24,
     "metadata": {},
     "output_type": "execute_result"
    }
   ],
   "source": [
    "(0.776520071751 + 0.780286394705)/2-(0.776705634935+0.782203940247)/2\n",
    "(0.776705634935+0.782203940247)/2-(0.777880868436+0.78294621594)/2"
   ]
  },
  {
   "cell_type": "markdown",
   "metadata": {},
   "source": [
    "The cross-validation scores are :  0.776148945383 0.781709089784\n",
    "The cross-validation scores are :  0.787090588563\n",
    "[13703, 2297]\n",
    "[70848, 11972]\n",
    "The running time is  100.95253396034241\n",
    "\n",
    "The cross-validation scores are :  0.775654110225 0.78310085671\n",
    "The cross-validation scores are :  0.786533881793\n",
    "[13737, 2263]\n",
    "[70926, 11894]\n",
    "The running time is  102.10718703269958\n",
    "0.0095:\n",
    "The cross-validation scores are :  0.776489144554 0.781307023784\n",
    "The cross-validation scores are :  0.786162743946\n",
    "[13768, 2232]\n",
    "[71027, 11793]\n",
    "The running time is  89.1989848613739"
   ]
  },
  {
   "cell_type": "markdown",
   "metadata": {},
   "source": [
    "The cross-validation scores are :  0.776520071751 0.780286394705\n",
    "The running time is  84.21992111206055\n",
    "\n",
    "alpha = 0.002; 152 feature selected:\n",
    "The cross-validation scores are :  0.776736562133 0.781399808245\n",
    "The running time is  61.33863091468811\n",
    "\n",
    "alpha = 0.005;  97 feature selected:\n",
    "The cross-validation scores are :  0.776860270922 0.782420437324\n",
    "The running time is  46.867387771606445\n",
    "\n",
    "alpha = 0.0075; 68 feature selected:\n",
    "The cross-validation scores are :  0.776550998948 0.782853431479\n",
    "The running time is  42.11497497558594\n",
    "\n",
    "alpha = 0.01; 55 feature selected:\n",
    "The cross-validation scores are :  0.776241726975 0.781863730554\n",
    "The running time is  39.134161949157715"
   ]
  },
  {
   "cell_type": "code",
   "execution_count": 5,
   "metadata": {
    "collapsed": false
   },
   "outputs": [],
   "source": [
    "x = np.array([1,2,3])"
   ]
  },
  {
   "cell_type": "code",
   "execution_count": 8,
   "metadata": {
    "collapsed": false
   },
   "outputs": [
    {
     "data": {
      "text/plain": [
       "array([1, 3])"
      ]
     },
     "execution_count": 8,
     "metadata": {},
     "output_type": "execute_result"
    }
   ],
   "source": [
    "index = np.array([True,False,True])\n",
    "x[index]"
   ]
  },
  {
   "cell_type": "code",
   "execution_count": 11,
   "metadata": {
    "collapsed": false
   },
   "outputs": [
    {
     "data": {
      "text/plain": [
       "array([1, 2])"
      ]
     },
     "execution_count": 11,
     "metadata": {},
     "output_type": "execute_result"
    }
   ],
   "source": [
    "x[:-1]"
   ]
  },
  {
   "cell_type": "code",
   "execution_count": 42,
   "metadata": {
    "collapsed": true
   },
   "outputs": [],
   "source": [
    "x[2]=5"
   ]
  },
  {
   "cell_type": "code",
   "execution_count": 43,
   "metadata": {
    "collapsed": false
   },
   "outputs": [
    {
     "data": {
      "text/plain": [
       "array([1, 2, 5])"
      ]
     },
     "execution_count": 43,
     "metadata": {},
     "output_type": "execute_result"
    }
   ],
   "source": [
    "x"
   ]
  },
  {
   "cell_type": "code",
   "execution_count": 111,
   "metadata": {
    "collapsed": false
   },
   "outputs": [],
   "source": [
    "m = range(0, 9, 3)"
   ]
  },
  {
   "cell_type": "code",
   "execution_count": 112,
   "metadata": {
    "collapsed": false
   },
   "outputs": [
    {
     "data": {
      "text/plain": [
       "3"
      ]
     },
     "execution_count": 112,
     "metadata": {},
     "output_type": "execute_result"
    }
   ],
   "source": [
    "len(m)"
   ]
  },
  {
   "cell_type": "code",
   "execution_count": 114,
   "metadata": {
    "collapsed": false
   },
   "outputs": [
    {
     "data": {
      "text/plain": [
       "6"
      ]
     },
     "execution_count": 114,
     "metadata": {},
     "output_type": "execute_result"
    }
   ],
   "source": [
    "m[2]"
   ]
  },
  {
   "cell_type": "code",
   "execution_count": null,
   "metadata": {
    "collapsed": true
   },
   "outputs": [],
   "source": []
  }
 ],
 "metadata": {
  "kernelspec": {
   "display_name": "Python 3",
   "language": "python",
   "name": "python3"
  },
  "language_info": {
   "codemirror_mode": {
    "name": "ipython",
    "version": 3
   },
   "file_extension": ".py",
   "mimetype": "text/x-python",
   "name": "python",
   "nbconvert_exporter": "python",
   "pygments_lexer": "ipython3",
   "version": "3.5.2"
  }
 },
 "nbformat": 4,
 "nbformat_minor": 2
}
