{
 "cells": [
  {
   "cell_type": "code",
   "execution_count": 1,
   "metadata": {
    "collapsed": true
   },
   "outputs": [],
   "source": [
    "import numpy as np\n",
    "import sklearn\n",
    "import sklearn.tree\n",
    "import csv\n",
    "import sklearn.ensemble\n",
    "import xgboost as xgb\n",
    "from xgboost import XGBClassifier\n",
    "from sklearn.preprocessing import StandardScaler \n",
    "from sklearn.ensemble import RandomForestClassifier\n",
    "from sklearn.svm import SVC\n",
    "from matplotlib import pyplot as plt\n",
    "from sklearn import linear_model"
   ]
  },
  {
   "cell_type": "code",
   "execution_count": 2,
   "metadata": {
    "collapsed": false
   },
   "outputs": [],
   "source": [
    "def normalize(x):\n",
    "    '''This function nomalizes each columns of the input 2d array.'''\n",
    "    x_mean = np.mean(x, axis=0)\n",
    "    x_std = np.std(x, axis=0)\n",
    "    x_std[x_std == 0] = 1\n",
    "    x1 = (x - x_mean) / x_std\n",
    "    return x1\n",
    "\n",
    "def xgb_test_accuracy(preds_prob, test_label):\n",
    "    preds_label = preds_prob > 0.5\n",
    "    accuracy = 0\n",
    "    for i in range(len(test_label)):\n",
    "        if preds_label[i] == test_label[i]:\n",
    "            accuracy += 1\n",
    "    return accuracy\n",
    "\n",
    "def xgb_feature_testerror(input_train_data, input_test_data, feature_index):\n",
    "    X_train = input_train_data[:,[0,feature_index]]\n",
    "    Y_train = input_train_data[:,382]\n",
    "    Y_train[Y_train == 2.0] = 0\n",
    "    X_test = input_test_data[:,[0,feature_index]]\n",
    "    Y_test = input_test_data[:,382]\n",
    "    Y_test[Y_test == 2.0] = 0\n",
    "    dtrain = xgb.DMatrix(X_train, label=Y_train)\n",
    "    dtest = xgb.DMatrix(X_test, label=Y_test)\n",
    "    param = {'max_depth':4, 'eta':0.1, 'silent':1, 'objective':'binary:logistic' }\n",
    "    num_round = 10\n",
    "    bst = xgb.train(param, dtrain, num_round)\n",
    "    # make prediction\n",
    "    preds = bst.predict(dtest)\n",
    "    test_accuracy = xgb_test_accuracy(preds, Y_test)\n",
    "    return test_accuracy/len(Y_test)\n",
    "\n",
    "def selectFeature(X_train, y_train, x_test1, x_test2):\n",
    "    '''This function select the features of normalized data (i.e., np.std(X[:,j]) = 1 or 0).\n",
    "    If qmin < (np.amax(X[:,j]) - np.amin(X[:,j]) < qmax, then j will be selected.'''\n",
    "    reg = linear_model.Lasso(alpha = 0.002)\n",
    "    reg.fit(X_train, y_train)\n",
    "    keeplist = []\n",
    "    feature_num = len(reg.coef_)\n",
    "    for i in range(feature_num):\n",
    "        if abs(reg.coef_[i])> 1e-4:\n",
    "            keeplist.append(True)\n",
    "        else:\n",
    "            keeplist.append(False)\n",
    "    keeplist = np.array(keeplist)\n",
    "    x_train_new = X_train[:, keeplist]\n",
    "    x_test1_new = X_test1[:, keeplist]\n",
    "    x_test2_new = X_test2[:, keeplist]\n",
    "    return (x_train_new, x_test1_new, x_test2_new)"
   ]
  },
  {
   "cell_type": "code",
   "execution_count": 3,
   "metadata": {
    "collapsed": false
   },
   "outputs": [
    {
     "name": "stdout",
     "output_type": "stream",
     "text": [
      "152\n"
     ]
    }
   ],
   "source": [
    "# load the the data from the files\n",
    "with open('train_2008.csv', 'r') as file1: \n",
    "    lines1 = csv.reader(file1, delimiter=',', quotechar='|') \n",
    "    next(lines1, None)\n",
    "    data1 = np.array([line for line in lines1], dtype=float)\n",
    "\n",
    "with open('test_2008.csv', 'r') as file2:\n",
    "\tlines2 = csv.reader(file2, delimiter=',', quotechar='\"')\n",
    "\tnext(lines2, None)\n",
    "\tdata2 = np.array([line for line in lines2], dtype=float)\n",
    "\n",
    "with open('test_2012.csv', 'r') as file3:\n",
    "\tlines3 = csv.reader(file3, delimiter=',', quotechar='\"')\n",
    "\tnext(lines3, None)\n",
    "\tdata3 = np.array([line for line in lines3], dtype=float)\n",
    "\n",
    "# convert the data to float numpy array \n",
    "N_train = len(data1)\n",
    "y_train = 2 * (data1[:, -1] - 1.5)  # maps 1 to -1, 2 to 1\n",
    "X_train = normalize(data1[:, :-1])\n",
    "X_train[:, 0] = 1\n",
    "X_test1 = normalize(data2)\n",
    "X_test1[:, 0] = 1\n",
    "X_test2 = normalize(data3)\n",
    "X_test2[:, 0] = 1\n",
    "#qmin, qmax = 1, 100\n",
    "X_train, X_test1, X_test2 = selectFeature(X_train, y_train, X_test1, X_test2) \n",
    "\n",
    "d = len(X_train[0])\n",
    "print(d)"
   ]
  },
  {
   "cell_type": "code",
   "execution_count": 4,
   "metadata": {
    "collapsed": false
   },
   "outputs": [
    {
     "data": {
      "text/plain": [
       "{'validation_0': {'error': [0.246737,\n",
       "   0.246954,\n",
       "   0.236408,\n",
       "   0.244665,\n",
       "   0.239407,\n",
       "   0.236871,\n",
       "   0.236995,\n",
       "   0.236593,\n",
       "   0.237057,\n",
       "   0.234274,\n",
       "   0.233315,\n",
       "   0.233377,\n",
       "   0.233036,\n",
       "   0.232325,\n",
       "   0.232511,\n",
       "   0.232573,\n",
       "   0.23217,\n",
       "   0.231366,\n",
       "   0.231459,\n",
       "   0.231521,\n",
       "   0.230006,\n",
       "   0.229387,\n",
       "   0.229047,\n",
       "   0.228552,\n",
       "   0.228552,\n",
       "   0.228985,\n",
       "   0.228181,\n",
       "   0.227377,\n",
       "   0.227408,\n",
       "   0.227067,\n",
       "   0.22648,\n",
       "   0.225892,\n",
       "   0.225676,\n",
       "   0.225336,\n",
       "   0.225274,\n",
       "   0.224408,\n",
       "   0.224253,\n",
       "   0.224253,\n",
       "   0.224098,\n",
       "   0.224253,\n",
       "   0.223882,\n",
       "   0.223418,\n",
       "   0.223233,\n",
       "   0.223171,\n",
       "   0.222985,\n",
       "   0.223078,\n",
       "   0.223109,\n",
       "   0.222521,\n",
       "   0.223016,\n",
       "   0.222676,\n",
       "   0.222985,\n",
       "   0.222583,\n",
       "   0.222336,\n",
       "   0.222645,\n",
       "   0.222428,\n",
       "   0.222645,\n",
       "   0.222243,\n",
       "   0.222181,\n",
       "   0.222336,\n",
       "   0.222428,\n",
       "   0.222088,\n",
       "   0.222243,\n",
       "   0.222212,\n",
       "   0.22215,\n",
       "   0.222119,\n",
       "   0.222397,\n",
       "   0.222428,\n",
       "   0.222676,\n",
       "   0.222119,\n",
       "   0.222459,\n",
       "   0.222181,\n",
       "   0.222119,\n",
       "   0.221964,\n",
       "   0.221903,\n",
       "   0.222026,\n",
       "   0.222088,\n",
       "   0.222026,\n",
       "   0.222119,\n",
       "   0.221934,\n",
       "   0.221748,\n",
       "   0.221686,\n",
       "   0.221748,\n",
       "   0.221995,\n",
       "   0.221934,\n",
       "   0.22215,\n",
       "   0.222212,\n",
       "   0.222181,\n",
       "   0.222088,\n",
       "   0.222181,\n",
       "   0.22215,\n",
       "   0.222367,\n",
       "   0.222367,\n",
       "   0.222336,\n",
       "   0.222305,\n",
       "   0.222057,\n",
       "   0.222026,\n",
       "   0.222057,\n",
       "   0.221903,\n",
       "   0.22215,\n",
       "   0.222088]}}"
      ]
     },
     "execution_count": 4,
     "metadata": {},
     "output_type": "execute_result"
    }
   ],
   "source": [
    "# train the model and calculate the scores by cross-validation\n",
    "\n",
    "clf = xgb.XGBClassifier(max_depth=4, silent = 1, objective = 'binary:logistic')\n",
    "clf.fit(X_train[:int(N_train/2)], y_train[:int(N_train/2)], eval_set=[(X_train[int(N_train/2):], y_train[int(N_train/2):])], eval_metric='error', verbose=False)\n",
    "clf.evals_result_"
   ]
  },
  {
   "cell_type": "code",
   "execution_count": 8,
   "metadata": {
    "collapsed": false
   },
   "outputs": [
    {
     "data": {
      "text/plain": [
       "array([ 0.0041841 ,  0.00209205,  0.00209205,  0.01882845,  0.0097629 ,\n",
       "        0.00488145,  0.00069735,  0.00348675,  0.05439331,  0.01185495,\n",
       "        0.00488145,  0.00906555,  0.0013947 ,  0.00348675,  0.0041841 ,\n",
       "        0.        ,  0.00488145,  0.05439331,  0.03556485,  0.0223152 ,\n",
       "        0.00209205,  0.0055788 ,  0.01046025,  0.01743375,  0.013947  ,\n",
       "        0.00069735,  0.08437936,  0.00069735,  0.00906555,  0.00906555,\n",
       "        0.06345886,  0.05718271,  0.00906555,  0.0013947 ,  0.01185495,\n",
       "        0.        ,  0.        ,  0.        ,  0.0097629 ,  0.02161785,\n",
       "        0.0111576 ,  0.00488145,  0.00069735,  0.03695956,  0.0083682 ,\n",
       "        0.0083682 ,  0.00069735,  0.00906555,  0.00069735,  0.        ,\n",
       "        0.00488145,  0.0041841 ,  0.        ,  0.01046025,  0.0013947 ,\n",
       "        0.00767085,  0.0041841 ,  0.00906555,  0.        ,  0.        ,\n",
       "        0.        ,  0.        ,  0.00069735,  0.0013947 ,  0.        ,\n",
       "        0.        ,  0.        ,  0.        ,  0.0027894 ,  0.00209205,\n",
       "        0.        ,  0.        ,  0.        ,  0.        ,  0.        ,\n",
       "        0.0069735 ,  0.0041841 ,  0.        ,  0.00348675,  0.00209205,\n",
       "        0.0041841 ,  0.0013947 ,  0.0027894 ,  0.00488145,  0.        ,\n",
       "        0.        ,  0.        ,  0.00069735,  0.00348675,  0.0027894 ,\n",
       "        0.0125523 ,  0.0055788 ,  0.04811715,  0.02301255,  0.00069735,\n",
       "        0.        ,  0.        ,  0.0027894 ,  0.        ,  0.00069735,\n",
       "        0.00348675,  0.        ,  0.0027894 ,  0.0013947 ,  0.        ,\n",
       "        0.        ,  0.        ,  0.0027894 ,  0.        ,  0.        ,\n",
       "        0.00069735,  0.        ,  0.        ,  0.        ,  0.        ,\n",
       "        0.        ,  0.        ,  0.        ,  0.00069735,  0.        ,\n",
       "        0.00069735,  0.00069735,  0.        ,  0.        ,  0.0041841 ,\n",
       "        0.00209205,  0.00767085,  0.0041841 ,  0.00209205,  0.        ,\n",
       "        0.00069735,  0.        ,  0.0027894 ,  0.        ,  0.        ,\n",
       "        0.0404463 ,  0.03138075,  0.        ,  0.        ,  0.0069735 ,\n",
       "        0.0041841 ,  0.        ,  0.0083682 ,  0.0055788 ,  0.00348675,\n",
       "        0.00069735,  0.00069735,  0.0055788 ,  0.0027894 ,  0.0027894 ,\n",
       "        0.0097629 ,  0.        ], dtype=float32)"
      ]
     },
     "execution_count": 8,
     "metadata": {},
     "output_type": "execute_result"
    }
   ],
   "source": [
    "clf.feature_importances_"
   ]
  },
  {
   "cell_type": "code",
   "execution_count": 9,
   "metadata": {
    "collapsed": false,
    "scrolled": true
   },
   "outputs": [
    {
     "data": {
      "text/plain": [
       "[3, 8, 17, 18, 19, 23, 24, 26, 30, 31, 39, 43, 92, 93, 135, 136]"
      ]
     },
     "execution_count": 9,
     "metadata": {},
     "output_type": "execute_result"
    }
   ],
   "source": [
    "good_xgb_features = []\n",
    "for i in range(len(clf.feature_importances_)):\n",
    "    if clf.feature_importances_[i] > np.percentile(clf.feature_importances_, 90):\n",
    "        good_xgb_features.append(i)\n",
    "good_xgb_features"
   ]
  },
  {
   "cell_type": "code",
   "execution_count": 21,
   "metadata": {
    "collapsed": false
   },
   "outputs": [
    {
     "data": {
      "text/plain": [
       "(64667,)"
      ]
     },
     "execution_count": 21,
     "metadata": {},
     "output_type": "execute_result"
    }
   ],
   "source": [
    "y_train_xgb_train = data1[:, -1]\n",
    "y_train_xgb_train[y_train_xgb_train == 2.0] = 0\n",
    "\n",
    "y_train_xgb_train.shape"
   ]
  },
  {
   "cell_type": "code",
   "execution_count": 26,
   "metadata": {
    "collapsed": false
   },
   "outputs": [
    {
     "data": {
      "text/plain": [
       "3695"
      ]
     },
     "execution_count": 26,
     "metadata": {},
     "output_type": "execute_result"
    }
   ],
   "source": [
    "\n",
    "dtrain = xgb.DMatrix(X_train, label=y_train_xgb_train)\n",
    "dtest = xgb.DMatrix(X_test1)\n",
    "param = {'max_depth':4, 'eta':0.1, 'silent':1, 'objective':'binary:logistic'}\n",
    "num_round = 10\n",
    "bst = xgb.train(param, dtrain, num_round)\n",
    "# make prediction\n",
    "preds = bst.predict(dtest)\n",
    "np.count_nonzero(preds < 0.58)"
   ]
  },
  {
   "cell_type": "code",
   "execution_count": 10,
   "metadata": {
    "collapsed": false
   },
   "outputs": [
    {
     "data": {
      "text/plain": [
       "XGBClassifier(base_score=0.5, colsample_bylevel=1, colsample_bytree=1,\n",
       "       gamma=0, learning_rate=0.1, max_delta_step=0, max_depth=3,\n",
       "       min_child_weight=1, missing=None, n_estimators=100, nthread=-1,\n",
       "       objective='binary:logistic', reg_alpha=0, reg_lambda=1,\n",
       "       scale_pos_weight=1, seed=0, silent=True, subsample=1)"
      ]
     },
     "execution_count": 10,
     "metadata": {},
     "output_type": "execute_result"
    }
   ],
   "source": [
    "from xgboost import XGBClassifier\n",
    "# fit model no training data\n",
    "model = XGBClassifier()\n",
    "model.fit(X_train, y_train)\n"
   ]
  },
  {
   "cell_type": "code",
   "execution_count": 9,
   "metadata": {
    "collapsed": false
   },
   "outputs": [
    {
     "data": {
      "image/png": "[encoded data removed]",
      "text/plain": [
       "<matplotlib.figure.Figure at 0x1854a6be0>"
      ]
     },
     "metadata": {},
     "output_type": "display_data"
    }
   ],
   "source": [
    "from xgboost import plot_importance\n",
    "\"\"\"plot_importance(model)\n",
    "plt.show()\"\"\"\n",
    "\n",
    "plt.bar(range(len(model.feature_importances_)), np.sort(model.feature_importances_))\n",
    "plt.show()"
   ]
  },
  {
   "cell_type": "code",
   "execution_count": 34,
   "metadata": {
    "collapsed": false
   },
   "outputs": [
    {
     "data": {
      "text/plain": [
       "0.0026178011"
      ]
     },
     "execution_count": 34,
     "metadata": {},
     "output_type": "execute_result"
    }
   ],
   "source": [
    "np.mean(model.feature_importances_)"
   ]
  },
  {
   "cell_type": "code",
   "execution_count": 41,
   "metadata": {
    "collapsed": false
   },
   "outputs": [
    {
     "data": {
      "text/plain": [
       "0.777"
      ]
     },
     "execution_count": 41,
     "metadata": {},
     "output_type": "execute_result"
    }
   ],
   "source": [
    "from sklearn.feature_selection import SelectFromModel\n",
    "# select features using threshold\n",
    "selection = SelectFromModel(model, threshold=np.mean(model.feature_importances_), prefit = True)\n",
    "select_X_train = selection.transform(X_train)\n",
    "# train model\n",
    "selection_model = XGBClassifier()\n",
    "selection_model.fit(select_X_train, Y_train)\n",
    "# eval model\n",
    "select_X_test = selection.transform(X_test)\n",
    "pred_select = selection_model.predict(select_X_test)\n",
    "xgb_test_accuracy(pred_select, Y_test)/len(Y_test)"
   ]
  },
  {
   "cell_type": "code",
   "execution_count": 46,
   "metadata": {
    "collapsed": true
   },
   "outputs": [],
   "source": [
    "def sample_submission_selectionfeature(leanred_clf, selection_fromtrain):\n",
    "    import csv\n",
    "    with open('test_2008.csv','r') as bv_data2:\n",
    "        data_iter = csv.reader(bv_data2, delimiter = ',', quotechar = '\"') \n",
    "        next(data_iter, None) \n",
    "        data = [data for data in data_iter] \n",
    "    \n",
    "    data_array2 = np.asarray(data,dtype=np.float32)\n",
    "    dim = len(data_array2)\n",
    "    train_data = np.hstack((np.ones(dim).reshape(dim,1),data_array2[:,1:]))  \n",
    "    X_test_out = data_array2[:, :382];\n",
    "    select_X_test_out = selection_fromtrain.transform(X_test_out)\n",
    "    y_test2 = leanred_clf.predict(select_X_test_out)\n",
    "    y_test2[y_test2 == 0] = 2\n",
    "    y_test2 = np.int8(y_test2)\n",
    "    with open('submission2008.csv', 'w', newline='') as csvfile:\n",
    "        spamwriter = csv.writer(csvfile, delimiter=',',\n",
    "                                quotechar='|', quoting=csv.QUOTE_MINIMAL)\n",
    "        spamwriter.writerow(['id', 'PES1'])\n",
    "        for i, yi in enumerate(y_test2):\n",
    "            spamwriter.writerow([str(i), str(yi)])\n",
    "            \n",
    "\n",
    "def sample_submission_2008(leanred_clf):\n",
    "    y_test1 = leanred_clf.predict(X_test1)\n",
    "    y_test1 = y_test1/2.0 + 1.5\n",
    "    y_test1 = np.int8(y_test1)\n",
    "    with open('submission2008.csv', 'w', newline='') as csvfile:\n",
    "        spamwriter = csv.writer(csvfile, delimiter=',',\n",
    "                                quotechar='|', quoting=csv.QUOTE_MINIMAL)\n",
    "        spamwriter.writerow(['id', 'PES1'])\n",
    "        for i, yi in enumerate(y_test1):\n",
    "            spamwriter.writerow([str(i), str(yi)])  "
   ]
  },
  {
   "cell_type": "code",
   "execution_count": 47,
   "metadata": {
    "collapsed": false
   },
   "outputs": [],
   "source": [
    "sample_submission_2008(clf)"
   ]
  },
  {
   "cell_type": "code",
   "execution_count": 28,
   "metadata": {
    "collapsed": false
   },
   "outputs": [
    {
     "ename": "ValueError",
     "evalue": "feature_names mismatch: ['f0', 'f1', 'f2', 'f3', 'f4', 'f5', 'f6', 'f7', 'f8', 'f9', 'f10', 'f11', 'f12', 'f13', 'f14', 'f15', 'f16', 'f17', 'f18', 'f19', 'f20', 'f21', 'f22', 'f23', 'f24', 'f25', 'f26', 'f27', 'f28', 'f29', 'f30', 'f31'] ['f0', 'f1', 'f2', 'f3', 'f4', 'f5', 'f6', 'f7', 'f8', 'f9', 'f10', 'f11', 'f12', 'f13', 'f14', 'f15', 'f16', 'f17', 'f18', 'f19', 'f20', 'f21', 'f22', 'f23', 'f24', 'f25', 'f26', 'f27', 'f28', 'f29', 'f30', 'f31', 'f32', 'f33', 'f34', 'f35', 'f36', 'f37', 'f38', 'f39', 'f40', 'f41', 'f42', 'f43', 'f44', 'f45', 'f46', 'f47', 'f48', 'f49', 'f50', 'f51', 'f52', 'f53', 'f54', 'f55', 'f56', 'f57', 'f58', 'f59', 'f60', 'f61', 'f62', 'f63', 'f64', 'f65', 'f66', 'f67', 'f68', 'f69', 'f70', 'f71', 'f72', 'f73', 'f74', 'f75', 'f76', 'f77', 'f78', 'f79', 'f80', 'f81', 'f82', 'f83', 'f84', 'f85', 'f86', 'f87', 'f88', 'f89', 'f90', 'f91', 'f92', 'f93', 'f94', 'f95', 'f96', 'f97', 'f98', 'f99', 'f100', 'f101', 'f102', 'f103', 'f104', 'f105', 'f106', 'f107', 'f108', 'f109', 'f110', 'f111', 'f112', 'f113', 'f114', 'f115', 'f116', 'f117', 'f118', 'f119', 'f120', 'f121', 'f122', 'f123', 'f124', 'f125', 'f126', 'f127', 'f128', 'f129', 'f130', 'f131', 'f132', 'f133', 'f134', 'f135', 'f136', 'f137', 'f138', 'f139', 'f140', 'f141', 'f142', 'f143', 'f144', 'f145', 'f146', 'f147', 'f148', 'f149', 'f150', 'f151', 'f152', 'f153', 'f154', 'f155', 'f156', 'f157', 'f158', 'f159', 'f160', 'f161', 'f162', 'f163', 'f164', 'f165', 'f166', 'f167', 'f168', 'f169', 'f170', 'f171', 'f172', 'f173', 'f174', 'f175', 'f176', 'f177', 'f178', 'f179', 'f180', 'f181', 'f182', 'f183', 'f184', 'f185', 'f186', 'f187', 'f188', 'f189', 'f190', 'f191', 'f192', 'f193', 'f194', 'f195', 'f196', 'f197', 'f198', 'f199', 'f200', 'f201', 'f202', 'f203', 'f204', 'f205', 'f206', 'f207', 'f208', 'f209', 'f210', 'f211', 'f212', 'f213', 'f214', 'f215', 'f216', 'f217', 'f218', 'f219', 'f220', 'f221', 'f222', 'f223', 'f224', 'f225', 'f226', 'f227', 'f228', 'f229', 'f230', 'f231', 'f232', 'f233', 'f234', 'f235', 'f236', 'f237', 'f238', 'f239', 'f240', 'f241', 'f242', 'f243', 'f244', 'f245', 'f246', 'f247', 'f248', 'f249', 'f250', 'f251', 'f252', 'f253', 'f254', 'f255', 'f256', 'f257', 'f258', 'f259', 'f260', 'f261', 'f262', 'f263', 'f264', 'f265', 'f266', 'f267', 'f268', 'f269', 'f270', 'f271', 'f272', 'f273', 'f274', 'f275', 'f276', 'f277', 'f278', 'f279', 'f280', 'f281', 'f282', 'f283', 'f284', 'f285', 'f286', 'f287', 'f288', 'f289', 'f290', 'f291', 'f292', 'f293', 'f294', 'f295', 'f296', 'f297', 'f298', 'f299', 'f300', 'f301', 'f302', 'f303', 'f304', 'f305', 'f306', 'f307', 'f308', 'f309', 'f310', 'f311', 'f312', 'f313', 'f314', 'f315', 'f316', 'f317', 'f318', 'f319', 'f320', 'f321', 'f322', 'f323', 'f324', 'f325', 'f326', 'f327', 'f328', 'f329', 'f330', 'f331', 'f332', 'f333', 'f334', 'f335', 'f336', 'f337', 'f338', 'f339', 'f340', 'f341', 'f342', 'f343', 'f344', 'f345', 'f346', 'f347', 'f348', 'f349', 'f350', 'f351', 'f352', 'f353', 'f354', 'f355', 'f356', 'f357', 'f358', 'f359', 'f360', 'f361', 'f362', 'f363', 'f364', 'f365', 'f366', 'f367', 'f368', 'f369', 'f370', 'f371', 'f372', 'f373', 'f374', 'f375', 'f376', 'f377', 'f378', 'f379', 'f380', 'f381']\ntraining data did not have the following fields: f75, f84, f209, f361, f42, f261, f278, f263, f207, f135, f256, f216, f252, f205, f166, f275, f134, f155, f71, f334, f336, f296, f195, f308, f253, f226, f127, f196, f109, f112, f86, f37, f245, f324, f191, f41, f148, f227, f355, f160, f340, f99, f206, f366, f132, f152, f270, f234, f200, f320, f211, f312, f249, f343, f362, f161, f285, f348, f189, f83, f360, f110, f247, f376, f181, f74, f80, f218, f317, f367, f68, f147, f346, f125, f332, f116, f137, f139, f276, f208, f164, f354, f178, f325, f61, f293, f45, f103, f180, f294, f96, f221, f213, f203, f171, f33, f290, f356, f168, f115, f370, f55, f35, f87, f54, f353, f224, f327, f358, f302, f365, f124, f267, f184, f64, f97, f212, f120, f78, f299, f49, f186, f50, f262, f82, f150, f369, f219, f326, f77, f129, f121, f265, f141, f51, f108, f138, f347, f266, f339, f372, f284, f66, f338, f214, f56, f251, f44, f62, f40, f328, f122, f105, f175, f101, f271, f89, f92, f65, f130, f39, f85, f106, f289, f73, f292, f53, f229, f204, f95, f329, f165, f133, f307, f352, f230, f248, f149, f157, f373, f298, f260, f304, f70, f243, f303, f69, f237, f79, f235, f46, f257, f114, f58, f179, f185, f318, f159, f142, f57, f156, f333, f67, f158, f241, f305, f364, f151, f228, f269, f379, f81, f217, f107, f232, f222, f220, f52, f244, f199, f246, f190, f131, f331, f59, f287, f342, f117, f357, f375, f136, f163, f378, f202, f162, f349, f38, f288, f286, f371, f210, f192, f264, f295, f153, f194, f123, f126, f255, f323, f377, f60, f374, f146, f250, f43, f282, f177, f215, f198, f113, f173, f259, f145, f48, f187, f363, f90, f315, f337, f128, f233, f309, f311, f225, f381, f94, f140, f306, f281, f319, f297, f154, f300, f223, f341, f63, f76, f182, f322, f335, f310, f47, f301, f93, f176, f231, f368, f313, f279, f280, f344, f102, f119, f88, f118, f104, f351, f283, f316, f277, f188, f314, f34, f143, f238, f359, f380, f291, f242, f258, f98, f321, f197, f144, f345, f274, f72, f201, f330, f174, f183, f272, f167, f170, f32, f240, f100, f193, f172, f111, f239, f91, f254, f273, f350, f236, f36, f169, f268",
     "output_type": "error",
     "traceback": [
      "\u001b[0;31m---------------------------------------------------------------------------\u001b[0m",
      "\u001b[0;31mValueError\u001b[0m                                Traceback (most recent call last)",
      "\u001b[0;32m<ipython-input-28-d92bd7208b5f>\u001b[0m in \u001b[0;36m<module>\u001b[0;34m()\u001b[0m\n\u001b[1;32m     10\u001b[0m \u001b[0mX_test_out\u001b[0m \u001b[0;34m=\u001b[0m \u001b[0mdata_array2\u001b[0m\u001b[0;34m[\u001b[0m\u001b[0;34m:\u001b[0m\u001b[0;34m,\u001b[0m \u001b[0;34m:\u001b[0m\u001b[0;36m382\u001b[0m\u001b[0;34m]\u001b[0m\u001b[0;34m;\u001b[0m\u001b[0;34m\u001b[0m\u001b[0m\n\u001b[1;32m     11\u001b[0m \u001b[0mselect_X_test_out\u001b[0m \u001b[0;34m=\u001b[0m \u001b[0mselection\u001b[0m\u001b[0;34m.\u001b[0m\u001b[0mtransform\u001b[0m\u001b[0;34m(\u001b[0m\u001b[0mX_test_out\u001b[0m\u001b[0;34m)\u001b[0m\u001b[0;34m\u001b[0m\u001b[0m\n\u001b[0;32m---> 12\u001b[0;31m \u001b[0my_test2\u001b[0m \u001b[0;34m=\u001b[0m \u001b[0mselection_model\u001b[0m\u001b[0;34m.\u001b[0m\u001b[0mpredict\u001b[0m\u001b[0;34m(\u001b[0m\u001b[0mX_test_out\u001b[0m\u001b[0;34m)\u001b[0m\u001b[0;34m\u001b[0m\u001b[0m\n\u001b[0m\u001b[1;32m     13\u001b[0m \u001b[0my_test2\u001b[0m\u001b[0;34m[\u001b[0m\u001b[0my_test2\u001b[0m \u001b[0;34m==\u001b[0m \u001b[0;36m0\u001b[0m\u001b[0;34m]\u001b[0m \u001b[0;34m=\u001b[0m \u001b[0;36m2\u001b[0m\u001b[0;34m\u001b[0m\u001b[0m\n\u001b[1;32m     14\u001b[0m \u001b[0my_test2\u001b[0m \u001b[0;34m=\u001b[0m \u001b[0mnp\u001b[0m\u001b[0;34m.\u001b[0m\u001b[0mint8\u001b[0m\u001b[0;34m(\u001b[0m\u001b[0my_test2\u001b[0m\u001b[0;34m)\u001b[0m\u001b[0;34m\u001b[0m\u001b[0m\n",
      "\u001b[0;32m/Users/haoqing/xgboost/python-package/xgboost/sklearn.py\u001b[0m in \u001b[0;36mpredict\u001b[0;34m(self, data, output_margin, ntree_limit)\u001b[0m\n\u001b[1;32m    482\u001b[0m         class_probs = self.booster().predict(test_dmatrix,\n\u001b[1;32m    483\u001b[0m                                              \u001b[0moutput_margin\u001b[0m\u001b[0;34m=\u001b[0m\u001b[0moutput_margin\u001b[0m\u001b[0;34m,\u001b[0m\u001b[0;34m\u001b[0m\u001b[0m\n\u001b[0;32m--> 484\u001b[0;31m                                              ntree_limit=ntree_limit)\n\u001b[0m\u001b[1;32m    485\u001b[0m         \u001b[0;32mif\u001b[0m \u001b[0mlen\u001b[0m\u001b[0;34m(\u001b[0m\u001b[0mclass_probs\u001b[0m\u001b[0;34m.\u001b[0m\u001b[0mshape\u001b[0m\u001b[0;34m)\u001b[0m \u001b[0;34m>\u001b[0m \u001b[0;36m1\u001b[0m\u001b[0;34m:\u001b[0m\u001b[0;34m\u001b[0m\u001b[0m\n\u001b[1;32m    486\u001b[0m             \u001b[0mcolumn_indexes\u001b[0m \u001b[0;34m=\u001b[0m \u001b[0mnp\u001b[0m\u001b[0;34m.\u001b[0m\u001b[0margmax\u001b[0m\u001b[0;34m(\u001b[0m\u001b[0mclass_probs\u001b[0m\u001b[0;34m,\u001b[0m \u001b[0maxis\u001b[0m\u001b[0;34m=\u001b[0m\u001b[0;36m1\u001b[0m\u001b[0;34m)\u001b[0m\u001b[0;34m\u001b[0m\u001b[0m\n",
      "\u001b[0;32m/Users/haoqing/xgboost/python-package/xgboost/core.py\u001b[0m in \u001b[0;36mpredict\u001b[0;34m(self, data, output_margin, ntree_limit, pred_leaf)\u001b[0m\n\u001b[1;32m    948\u001b[0m             \u001b[0moption_mask\u001b[0m \u001b[0;34m|=\u001b[0m \u001b[0;36m0x02\u001b[0m\u001b[0;34m\u001b[0m\u001b[0m\n\u001b[1;32m    949\u001b[0m \u001b[0;34m\u001b[0m\u001b[0m\n\u001b[0;32m--> 950\u001b[0;31m         \u001b[0mself\u001b[0m\u001b[0;34m.\u001b[0m\u001b[0m_validate_features\u001b[0m\u001b[0;34m(\u001b[0m\u001b[0mdata\u001b[0m\u001b[0;34m)\u001b[0m\u001b[0;34m\u001b[0m\u001b[0m\n\u001b[0m\u001b[1;32m    951\u001b[0m \u001b[0;34m\u001b[0m\u001b[0m\n\u001b[1;32m    952\u001b[0m         \u001b[0mlength\u001b[0m \u001b[0;34m=\u001b[0m \u001b[0mctypes\u001b[0m\u001b[0;34m.\u001b[0m\u001b[0mc_ulong\u001b[0m\u001b[0;34m(\u001b[0m\u001b[0;34m)\u001b[0m\u001b[0;34m\u001b[0m\u001b[0m\n",
      "\u001b[0;32m/Users/haoqing/xgboost/python-package/xgboost/core.py\u001b[0m in \u001b[0;36m_validate_features\u001b[0;34m(self, data)\u001b[0m\n\u001b[1;32m   1191\u001b[0m \u001b[0;34m\u001b[0m\u001b[0m\n\u001b[1;32m   1192\u001b[0m                 raise ValueError(msg.format(self.feature_names,\n\u001b[0;32m-> 1193\u001b[0;31m                                             data.feature_names))\n\u001b[0m\u001b[1;32m   1194\u001b[0m \u001b[0;34m\u001b[0m\u001b[0m\n\u001b[1;32m   1195\u001b[0m     \u001b[0;32mdef\u001b[0m \u001b[0mget_split_value_histogram\u001b[0m\u001b[0;34m(\u001b[0m\u001b[0mself\u001b[0m\u001b[0;34m,\u001b[0m \u001b[0mfeature\u001b[0m\u001b[0;34m,\u001b[0m \u001b[0mfmap\u001b[0m\u001b[0;34m=\u001b[0m\u001b[0;34m''\u001b[0m\u001b[0;34m,\u001b[0m \u001b[0mbins\u001b[0m\u001b[0;34m=\u001b[0m\u001b[0;32mNone\u001b[0m\u001b[0;34m,\u001b[0m \u001b[0mas_pandas\u001b[0m\u001b[0;34m=\u001b[0m\u001b[0;32mTrue\u001b[0m\u001b[0;34m)\u001b[0m\u001b[0;34m:\u001b[0m\u001b[0;34m\u001b[0m\u001b[0m\n",
      "\u001b[0;31mValueError\u001b[0m: feature_names mismatch: ['f0', 'f1', 'f2', 'f3', 'f4', 'f5', 'f6', 'f7', 'f8', 'f9', 'f10', 'f11', 'f12', 'f13', 'f14', 'f15', 'f16', 'f17', 'f18', 'f19', 'f20', 'f21', 'f22', 'f23', 'f24', 'f25', 'f26', 'f27', 'f28', 'f29', 'f30', 'f31'] ['f0', 'f1', 'f2', 'f3', 'f4', 'f5', 'f6', 'f7', 'f8', 'f9', 'f10', 'f11', 'f12', 'f13', 'f14', 'f15', 'f16', 'f17', 'f18', 'f19', 'f20', 'f21', 'f22', 'f23', 'f24', 'f25', 'f26', 'f27', 'f28', 'f29', 'f30', 'f31', 'f32', 'f33', 'f34', 'f35', 'f36', 'f37', 'f38', 'f39', 'f40', 'f41', 'f42', 'f43', 'f44', 'f45', 'f46', 'f47', 'f48', 'f49', 'f50', 'f51', 'f52', 'f53', 'f54', 'f55', 'f56', 'f57', 'f58', 'f59', 'f60', 'f61', 'f62', 'f63', 'f64', 'f65', 'f66', 'f67', 'f68', 'f69', 'f70', 'f71', 'f72', 'f73', 'f74', 'f75', 'f76', 'f77', 'f78', 'f79', 'f80', 'f81', 'f82', 'f83', 'f84', 'f85', 'f86', 'f87', 'f88', 'f89', 'f90', 'f91', 'f92', 'f93', 'f94', 'f95', 'f96', 'f97', 'f98', 'f99', 'f100', 'f101', 'f102', 'f103', 'f104', 'f105', 'f106', 'f107', 'f108', 'f109', 'f110', 'f111', 'f112', 'f113', 'f114', 'f115', 'f116', 'f117', 'f118', 'f119', 'f120', 'f121', 'f122', 'f123', 'f124', 'f125', 'f126', 'f127', 'f128', 'f129', 'f130', 'f131', 'f132', 'f133', 'f134', 'f135', 'f136', 'f137', 'f138', 'f139', 'f140', 'f141', 'f142', 'f143', 'f144', 'f145', 'f146', 'f147', 'f148', 'f149', 'f150', 'f151', 'f152', 'f153', 'f154', 'f155', 'f156', 'f157', 'f158', 'f159', 'f160', 'f161', 'f162', 'f163', 'f164', 'f165', 'f166', 'f167', 'f168', 'f169', 'f170', 'f171', 'f172', 'f173', 'f174', 'f175', 'f176', 'f177', 'f178', 'f179', 'f180', 'f181', 'f182', 'f183', 'f184', 'f185', 'f186', 'f187', 'f188', 'f189', 'f190', 'f191', 'f192', 'f193', 'f194', 'f195', 'f196', 'f197', 'f198', 'f199', 'f200', 'f201', 'f202', 'f203', 'f204', 'f205', 'f206', 'f207', 'f208', 'f209', 'f210', 'f211', 'f212', 'f213', 'f214', 'f215', 'f216', 'f217', 'f218', 'f219', 'f220', 'f221', 'f222', 'f223', 'f224', 'f225', 'f226', 'f227', 'f228', 'f229', 'f230', 'f231', 'f232', 'f233', 'f234', 'f235', 'f236', 'f237', 'f238', 'f239', 'f240', 'f241', 'f242', 'f243', 'f244', 'f245', 'f246', 'f247', 'f248', 'f249', 'f250', 'f251', 'f252', 'f253', 'f254', 'f255', 'f256', 'f257', 'f258', 'f259', 'f260', 'f261', 'f262', 'f263', 'f264', 'f265', 'f266', 'f267', 'f268', 'f269', 'f270', 'f271', 'f272', 'f273', 'f274', 'f275', 'f276', 'f277', 'f278', 'f279', 'f280', 'f281', 'f282', 'f283', 'f284', 'f285', 'f286', 'f287', 'f288', 'f289', 'f290', 'f291', 'f292', 'f293', 'f294', 'f295', 'f296', 'f297', 'f298', 'f299', 'f300', 'f301', 'f302', 'f303', 'f304', 'f305', 'f306', 'f307', 'f308', 'f309', 'f310', 'f311', 'f312', 'f313', 'f314', 'f315', 'f316', 'f317', 'f318', 'f319', 'f320', 'f321', 'f322', 'f323', 'f324', 'f325', 'f326', 'f327', 'f328', 'f329', 'f330', 'f331', 'f332', 'f333', 'f334', 'f335', 'f336', 'f337', 'f338', 'f339', 'f340', 'f341', 'f342', 'f343', 'f344', 'f345', 'f346', 'f347', 'f348', 'f349', 'f350', 'f351', 'f352', 'f353', 'f354', 'f355', 'f356', 'f357', 'f358', 'f359', 'f360', 'f361', 'f362', 'f363', 'f364', 'f365', 'f366', 'f367', 'f368', 'f369', 'f370', 'f371', 'f372', 'f373', 'f374', 'f375', 'f376', 'f377', 'f378', 'f379', 'f380', 'f381']\ntraining data did not have the following fields: f75, f84, f209, f361, f42, f261, f278, f263, f207, f135, f256, f216, f252, f205, f166, f275, f134, f155, f71, f334, f336, f296, f195, f308, f253, f226, f127, f196, f109, f112, f86, f37, f245, f324, f191, f41, f148, f227, f355, f160, f340, f99, f206, f366, f132, f152, f270, f234, f200, f320, f211, f312, f249, f343, f362, f161, f285, f348, f189, f83, f360, f110, f247, f376, f181, f74, f80, f218, f317, f367, f68, f147, f346, f125, f332, f116, f137, f139, f276, f208, f164, f354, f178, f325, f61, f293, f45, f103, f180, f294, f96, f221, f213, f203, f171, f33, f290, f356, f168, f115, f370, f55, f35, f87, f54, f353, f224, f327, f358, f302, f365, f124, f267, f184, f64, f97, f212, f120, f78, f299, f49, f186, f50, f262, f82, f150, f369, f219, f326, f77, f129, f121, f265, f141, f51, f108, f138, f347, f266, f339, f372, f284, f66, f338, f214, f56, f251, f44, f62, f40, f328, f122, f105, f175, f101, f271, f89, f92, f65, f130, f39, f85, f106, f289, f73, f292, f53, f229, f204, f95, f329, f165, f133, f307, f352, f230, f248, f149, f157, f373, f298, f260, f304, f70, f243, f303, f69, f237, f79, f235, f46, f257, f114, f58, f179, f185, f318, f159, f142, f57, f156, f333, f67, f158, f241, f305, f364, f151, f228, f269, f379, f81, f217, f107, f232, f222, f220, f52, f244, f199, f246, f190, f131, f331, f59, f287, f342, f117, f357, f375, f136, f163, f378, f202, f162, f349, f38, f288, f286, f371, f210, f192, f264, f295, f153, f194, f123, f126, f255, f323, f377, f60, f374, f146, f250, f43, f282, f177, f215, f198, f113, f173, f259, f145, f48, f187, f363, f90, f315, f337, f128, f233, f309, f311, f225, f381, f94, f140, f306, f281, f319, f297, f154, f300, f223, f341, f63, f76, f182, f322, f335, f310, f47, f301, f93, f176, f231, f368, f313, f279, f280, f344, f102, f119, f88, f118, f104, f351, f283, f316, f277, f188, f314, f34, f143, f238, f359, f380, f291, f242, f258, f98, f321, f197, f144, f345, f274, f72, f201, f330, f174, f183, f272, f167, f170, f32, f240, f100, f193, f172, f111, f239, f91, f254, f273, f350, f236, f36, f169, f268"
     ]
    }
   ],
   "source": [
    "import csv\n",
    "with open('test_2008.csv','r') as bv_data2:\n",
    "    data_iter = csv.reader(bv_data2, delimiter = ',', quotechar = '\"') \n",
    "    next(data_iter, None) \n",
    "    data = [data for data in data_iter] \n",
    "\n",
    "data_array2 = np.asarray(data,dtype=np.float32)\n",
    "dim = len(data_array2)\n",
    "train_data = np.hstack((np.ones(dim).reshape(dim,1),data_array2[:,1:])) \n",
    "X_test_out = data_array2[:, :382];\n",
    "select_X_test_out = selection.transform(X_test_out)\n",
    "y_test2 = selection_model.predict(select_X_test_out)\n",
    "y_test2[y_test2 == 0] = 2\n",
    "y_test2 = np.int8(y_test2)\n",
    "with open('submission2008.csv', 'w', newline='') as csvfile:\n",
    "    spamwriter = csv.writer(csvfile, delimiter=',',\n",
    "                            quotechar='|', quoting=csv.QUOTE_MINIMAL)\n",
    "    spamwriter.writerow(['id', 'PES1'])\n",
    "    for i, yi in enumerate(y_test2):\n",
    "        spamwriter.writerow([str(i), str(yi)])\n",
    "\n"
   ]
  },
  {
   "cell_type": "code",
   "execution_count": 24,
   "metadata": {
    "collapsed": false
   },
   "outputs": [
    {
     "data": {
      "text/plain": [
       "(16000, 382)"
      ]
     },
     "execution_count": 24,
     "metadata": {},
     "output_type": "execute_result"
    }
   ],
   "source": [
    "from sklearn.neural_network import MLPClassifier\n",
    "\n",
    "clf = MLPClassifier(solver='lbfgs', alpha=1e-5, hidden_layer_sizes=(5, 2), random_state=1)"
   ]
  },
  {
   "cell_type": "code",
   "execution_count": 23,
   "metadata": {
    "collapsed": false
   },
   "outputs": [
    {
     "data": {
      "text/plain": [
       "array([ 1.,  1.,  1., ...,  1.,  1.,  1.])"
      ]
     },
     "execution_count": 23,
     "metadata": {},
     "output_type": "execute_result"
    }
   ],
   "source": [
    "y_test2"
   ]
  },
  {
   "cell_type": "code",
   "execution_count": null,
   "metadata": {
    "collapsed": true
   },
   "outputs": [],
   "source": []
  }
 ],
 "metadata": {
  "anaconda-cloud": {},
  "kernelspec": {
   "display_name": "Python 3",
   "language": "python",
   "name": "python3"
  },
  "language_info": {
   "codemirror_mode": {
    "name": "ipython",
    "version": 3
   },
   "file_extension": ".py",
   "mimetype": "text/x-python",
   "name": "python",
   "nbconvert_exporter": "python",
   "pygments_lexer": "ipython3",
   "version": "3.5.2"
  }
 },
 "nbformat": 4,
 "nbformat_minor": 1
}
